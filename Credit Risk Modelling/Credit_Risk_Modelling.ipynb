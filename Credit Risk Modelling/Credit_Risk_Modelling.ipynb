{
 "cells": [
  {
   "cell_type": "markdown",
   "id": "ca165609",
   "metadata": {
    "id": "ca165609"
   },
   "source": [
    "# Import Library"
   ]
  },
  {
   "cell_type": "code",
   "execution_count": 1,
   "id": "d1b394d1",
   "metadata": {
    "ExecuteTime": {
     "end_time": "2022-10-30T12:53:15.015353Z",
     "start_time": "2022-10-30T12:53:14.616867Z"
    },
    "colab": {
     "base_uri": "https://localhost:8080/"
    },
    "id": "d1b394d1",
    "outputId": "96924312-b6d7-4524-dc83-73cebca9364d"
   },
   "outputs": [],
   "source": [
    "import numpy as np\n",
    "import pandas as pd\n",
    "\n",
    "import warnings\n",
    "warnings.filterwarnings(\"ignore\") "
   ]
  },
  {
   "cell_type": "code",
   "execution_count": 2,
   "id": "ad19162a",
   "metadata": {
    "ExecuteTime": {
     "end_time": "2022-10-30T12:53:18.702849Z",
     "start_time": "2022-10-30T12:53:15.049264Z"
    },
    "colab": {
     "base_uri": "https://localhost:8080/",
     "height": 404
    },
    "id": "ad19162a",
    "outputId": "70edad60-3a5f-4a40-a78c-0e78a3d285d3"
   },
   "outputs": [],
   "source": [
    "# Membaca csv file dan melihat 5 baris pertama\n",
    "loan_data = pd.read_csv('C:/Users/lenovo/Documents/ipynb/Dataset/loan_data_2007_2014.csv')\n",
    "loan_data.head()\n",
    "pd.options.display.max_columns = 100"
   ]
  },
  {
   "cell_type": "code",
   "execution_count": 3,
   "id": "bb32db7f",
   "metadata": {
    "ExecuteTime": {
     "end_time": "2022-10-30T12:53:18.717940Z",
     "start_time": "2022-10-30T12:53:18.703704Z"
    },
    "colab": {
     "base_uri": "https://localhost:8080/"
    },
    "id": "bb32db7f",
    "outputId": "b74a424d-4141-4c08-aea0-4d3a00f2b410"
   },
   "outputs": [
    {
     "data": {
      "text/plain": [
       "(466285, 75)"
      ]
     },
     "execution_count": 3,
     "metadata": {},
     "output_type": "execute_result"
    }
   ],
   "source": [
    "# Melihat total baris dan kolom\n",
    "loan_data.shape"
   ]
  },
  {
   "cell_type": "markdown",
   "id": "2a5ee441",
   "metadata": {},
   "source": [
    "Total jumlah baris 466285 dan 75 kolom"
   ]
  },
  {
   "cell_type": "code",
   "execution_count": 4,
   "id": "5f3a85fb",
   "metadata": {
    "ExecuteTime": {
     "end_time": "2022-10-30T12:53:19.263559Z",
     "start_time": "2022-10-30T12:53:18.718939Z"
    },
    "colab": {
     "base_uri": "https://localhost:8080/"
    },
    "id": "5f3a85fb",
    "outputId": "af512639-5a98-4013-ee1f-ff33b70ec4fa"
   },
   "outputs": [
    {
     "name": "stdout",
     "output_type": "stream",
     "text": [
      "<class 'pandas.core.frame.DataFrame'>\n",
      "RangeIndex: 466285 entries, 0 to 466284\n",
      "Data columns (total 75 columns):\n",
      " #   Column                       Non-Null Count   Dtype  \n",
      "---  ------                       --------------   -----  \n",
      " 0   Unnamed: 0                   466285 non-null  int64  \n",
      " 1   id                           466285 non-null  int64  \n",
      " 2   member_id                    466285 non-null  int64  \n",
      " 3   loan_amnt                    466285 non-null  int64  \n",
      " 4   funded_amnt                  466285 non-null  int64  \n",
      " 5   funded_amnt_inv              466285 non-null  float64\n",
      " 6   term                         466285 non-null  object \n",
      " 7   int_rate                     466285 non-null  float64\n",
      " 8   installment                  466285 non-null  float64\n",
      " 9   grade                        466285 non-null  object \n",
      " 10  sub_grade                    466285 non-null  object \n",
      " 11  emp_title                    438697 non-null  object \n",
      " 12  emp_length                   445277 non-null  object \n",
      " 13  home_ownership               466285 non-null  object \n",
      " 14  annual_inc                   466281 non-null  float64\n",
      " 15  verification_status          466285 non-null  object \n",
      " 16  issue_d                      466285 non-null  object \n",
      " 17  loan_status                  466285 non-null  object \n",
      " 18  pymnt_plan                   466285 non-null  object \n",
      " 19  url                          466285 non-null  object \n",
      " 20  desc                         125983 non-null  object \n",
      " 21  purpose                      466285 non-null  object \n",
      " 22  title                        466265 non-null  object \n",
      " 23  zip_code                     466285 non-null  object \n",
      " 24  addr_state                   466285 non-null  object \n",
      " 25  dti                          466285 non-null  float64\n",
      " 26  delinq_2yrs                  466256 non-null  float64\n",
      " 27  earliest_cr_line             466256 non-null  object \n",
      " 28  inq_last_6mths               466256 non-null  float64\n",
      " 29  mths_since_last_delinq       215934 non-null  float64\n",
      " 30  mths_since_last_record       62638 non-null   float64\n",
      " 31  open_acc                     466256 non-null  float64\n",
      " 32  pub_rec                      466256 non-null  float64\n",
      " 33  revol_bal                    466285 non-null  int64  \n",
      " 34  revol_util                   465945 non-null  float64\n",
      " 35  total_acc                    466256 non-null  float64\n",
      " 36  initial_list_status          466285 non-null  object \n",
      " 37  out_prncp                    466285 non-null  float64\n",
      " 38  out_prncp_inv                466285 non-null  float64\n",
      " 39  total_pymnt                  466285 non-null  float64\n",
      " 40  total_pymnt_inv              466285 non-null  float64\n",
      " 41  total_rec_prncp              466285 non-null  float64\n",
      " 42  total_rec_int                466285 non-null  float64\n",
      " 43  total_rec_late_fee           466285 non-null  float64\n",
      " 44  recoveries                   466285 non-null  float64\n",
      " 45  collection_recovery_fee      466285 non-null  float64\n",
      " 46  last_pymnt_d                 465909 non-null  object \n",
      " 47  last_pymnt_amnt              466285 non-null  float64\n",
      " 48  next_pymnt_d                 239071 non-null  object \n",
      " 49  last_credit_pull_d           466243 non-null  object \n",
      " 50  collections_12_mths_ex_med   466140 non-null  float64\n",
      " 51  mths_since_last_major_derog  98974 non-null   float64\n",
      " 52  policy_code                  466285 non-null  int64  \n",
      " 53  application_type             466285 non-null  object \n",
      " 54  annual_inc_joint             0 non-null       float64\n",
      " 55  dti_joint                    0 non-null       float64\n",
      " 56  verification_status_joint    0 non-null       float64\n",
      " 57  acc_now_delinq               466256 non-null  float64\n",
      " 58  tot_coll_amt                 396009 non-null  float64\n",
      " 59  tot_cur_bal                  396009 non-null  float64\n",
      " 60  open_acc_6m                  0 non-null       float64\n",
      " 61  open_il_6m                   0 non-null       float64\n",
      " 62  open_il_12m                  0 non-null       float64\n",
      " 63  open_il_24m                  0 non-null       float64\n",
      " 64  mths_since_rcnt_il           0 non-null       float64\n",
      " 65  total_bal_il                 0 non-null       float64\n",
      " 66  il_util                      0 non-null       float64\n",
      " 67  open_rv_12m                  0 non-null       float64\n",
      " 68  open_rv_24m                  0 non-null       float64\n",
      " 69  max_bal_bc                   0 non-null       float64\n",
      " 70  all_util                     0 non-null       float64\n",
      " 71  total_rev_hi_lim             396009 non-null  float64\n",
      " 72  inq_fi                       0 non-null       float64\n",
      " 73  total_cu_tl                  0 non-null       float64\n",
      " 74  inq_last_12m                 0 non-null       float64\n",
      "dtypes: float64(46), int64(7), object(22)\n",
      "memory usage: 266.8+ MB\n"
     ]
    }
   ],
   "source": [
    "# Melihat info seluruh kolom\n",
    "loan_data.info()"
   ]
  },
  {
   "cell_type": "markdown",
   "id": "28a170b7",
   "metadata": {},
   "source": [
    "Terdapat beberapa kolom/feature yang memiliki null values atau missing values yang akan dibersihkan nanti"
   ]
  },
  {
   "cell_type": "markdown",
   "id": "4bc30dcc",
   "metadata": {
    "id": "4bc30dcc"
   },
   "source": [
    "# Target Variable\n",
    "Dikarenakan project ini untuk mengetahui bad loan & good loan, maka perlu dibuat feature baru, yaitu target variable yang merepresentasikan bad loan (sebagai 1) dan good loan (sebagai 0)."
   ]
  },
  {
   "cell_type": "code",
   "execution_count": 5,
   "id": "5e34efee",
   "metadata": {
    "ExecuteTime": {
     "end_time": "2022-10-30T12:53:19.311523Z",
     "start_time": "2022-10-30T12:53:19.264558Z"
    },
    "colab": {
     "base_uri": "https://localhost:8080/"
    },
    "id": "5e34efee",
    "outputId": "8d184f4f-2514-44f3-f5fd-89e5a9412ad2"
   },
   "outputs": [
    {
     "data": {
      "text/plain": [
       "array(['Fully Paid', 'Charged Off', 'Current', 'Default',\n",
       "       'Late (31-120 days)', 'In Grace Period', 'Late (16-30 days)',\n",
       "       'Does not meet the credit policy. Status:Fully Paid',\n",
       "       'Does not meet the credit policy. Status:Charged Off'],\n",
       "      dtype=object)"
      ]
     },
     "execution_count": 5,
     "metadata": {},
     "output_type": "execute_result"
    }
   ],
   "source": [
    "# Melihat unique values pada feature loan_status\n",
    "loan_data.loan_status.unique()"
   ]
  },
  {
   "cell_type": "code",
   "execution_count": 6,
   "id": "abc886bb",
   "metadata": {
    "ExecuteTime": {
     "end_time": "2022-10-30T12:53:19.343367Z",
     "start_time": "2022-10-30T12:53:19.312519Z"
    },
    "id": "abc886bb"
   },
   "outputs": [],
   "source": [
    "# Membuat feature baru yaitu good_bad sebagai target variable,\n",
    "# Jika loan_statusnya 'Charged Off', 'Default', 'Late (31-120 days)', 'Late (16-30 days)' \n",
    "# akan dianggap sebagai bad_loan atau 1 dan nilai selain itu akan dianggap good loan atau 0\n",
    "loan_data['good_bad'] = np.where(loan_data.loc[:, 'loan_status'].isin(['Charged Off', \n",
    "                                                                  'Default', 'Late (31-120 days)', 'Late (16-30 days)', 'In Grace Period',\n",
    "                                                                  'Does not meet the credit policy. Status:Fully Paid',\n",
    "                                                                  'Does not meet the credit policy. Status:Charged Off'])\n",
    "                                , 1 , 0)"
   ]
  },
  {
   "cell_type": "code",
   "execution_count": 7,
   "id": "687023a5",
   "metadata": {
    "ExecuteTime": {
     "end_time": "2022-10-30T12:53:19.359475Z",
     "start_time": "2022-10-30T12:53:19.344366Z"
    },
    "colab": {
     "base_uri": "https://localhost:8080/"
    },
    "id": "687023a5",
    "outputId": "badec9c3-7576-4ab4-d91c-d51fea9f7598"
   },
   "outputs": [
    {
     "data": {
      "text/plain": [
       "0    408965\n",
       "1     57320\n",
       "Name: good_bad, dtype: int64"
      ]
     },
     "execution_count": 7,
     "metadata": {},
     "output_type": "execute_result"
    }
   ],
   "source": [
    "# Melihat distribusi 0 dan 1\n",
    "loan_data.good_bad.value_counts()"
   ]
  },
  {
   "cell_type": "code",
   "execution_count": 8,
   "id": "1f145c84",
   "metadata": {
    "ExecuteTime": {
     "end_time": "2022-10-30T12:53:19.374675Z",
     "start_time": "2022-10-30T12:53:19.361490Z"
    },
    "colab": {
     "base_uri": "https://localhost:8080/"
    },
    "id": "1f145c84",
    "outputId": "2d2e4bda-dbb3-40ce-8e62-1f5be09ad6ac"
   },
   "outputs": [
    {
     "data": {
      "text/plain": [
       "0    0.877071\n",
       "1    0.122929\n",
       "Name: good_bad, dtype: float64"
      ]
     },
     "execution_count": 8,
     "metadata": {},
     "output_type": "execute_result"
    }
   ],
   "source": [
    "loan_data.good_bad.value_counts(normalize=True)"
   ]
  },
  {
   "cell_type": "markdown",
   "id": "3f7260a1",
   "metadata": {
    "id": "3f7260a1"
   },
   "source": [
    "# Missing Values\n",
    "Feature yang memiliki missing values lebih dari 50% akan di drop, karena jika ingin diisi dengan nilai lain seperti median atau mean, maka errornya akan sangat tinggi. Lebih baik di drop agar tidak membuat model semakin tidak akurat."
   ]
  },
  {
   "cell_type": "code",
   "execution_count": 9,
   "id": "1b8e27df",
   "metadata": {
    "ExecuteTime": {
     "end_time": "2022-10-30T12:53:19.912430Z",
     "start_time": "2022-10-30T12:53:19.375677Z"
    },
    "colab": {
     "base_uri": "https://localhost:8080/",
     "height": 708
    },
    "id": "1b8e27df",
    "outputId": "862a189c-71e5-4445-e414-2db517e2af54"
   },
   "outputs": [
    {
     "data": {
      "text/html": [
       "<div>\n",
       "<style scoped>\n",
       "    .dataframe tbody tr th:only-of-type {\n",
       "        vertical-align: middle;\n",
       "    }\n",
       "\n",
       "    .dataframe tbody tr th {\n",
       "        vertical-align: top;\n",
       "    }\n",
       "\n",
       "    .dataframe thead th {\n",
       "        text-align: right;\n",
       "    }\n",
       "</style>\n",
       "<table border=\"1\" class=\"dataframe\">\n",
       "  <thead>\n",
       "    <tr style=\"text-align: right;\">\n",
       "      <th></th>\n",
       "      <th>0</th>\n",
       "    </tr>\n",
       "  </thead>\n",
       "  <tbody>\n",
       "    <tr>\n",
       "      <th>open_il_24m</th>\n",
       "      <td>1.000000</td>\n",
       "    </tr>\n",
       "    <tr>\n",
       "      <th>mths_since_rcnt_il</th>\n",
       "      <td>1.000000</td>\n",
       "    </tr>\n",
       "    <tr>\n",
       "      <th>total_cu_tl</th>\n",
       "      <td>1.000000</td>\n",
       "    </tr>\n",
       "    <tr>\n",
       "      <th>inq_fi</th>\n",
       "      <td>1.000000</td>\n",
       "    </tr>\n",
       "    <tr>\n",
       "      <th>all_util</th>\n",
       "      <td>1.000000</td>\n",
       "    </tr>\n",
       "    <tr>\n",
       "      <th>max_bal_bc</th>\n",
       "      <td>1.000000</td>\n",
       "    </tr>\n",
       "    <tr>\n",
       "      <th>open_rv_24m</th>\n",
       "      <td>1.000000</td>\n",
       "    </tr>\n",
       "    <tr>\n",
       "      <th>open_rv_12m</th>\n",
       "      <td>1.000000</td>\n",
       "    </tr>\n",
       "    <tr>\n",
       "      <th>il_util</th>\n",
       "      <td>1.000000</td>\n",
       "    </tr>\n",
       "    <tr>\n",
       "      <th>total_bal_il</th>\n",
       "      <td>1.000000</td>\n",
       "    </tr>\n",
       "    <tr>\n",
       "      <th>inq_last_12m</th>\n",
       "      <td>1.000000</td>\n",
       "    </tr>\n",
       "    <tr>\n",
       "      <th>open_il_12m</th>\n",
       "      <td>1.000000</td>\n",
       "    </tr>\n",
       "    <tr>\n",
       "      <th>open_il_6m</th>\n",
       "      <td>1.000000</td>\n",
       "    </tr>\n",
       "    <tr>\n",
       "      <th>open_acc_6m</th>\n",
       "      <td>1.000000</td>\n",
       "    </tr>\n",
       "    <tr>\n",
       "      <th>verification_status_joint</th>\n",
       "      <td>1.000000</td>\n",
       "    </tr>\n",
       "    <tr>\n",
       "      <th>dti_joint</th>\n",
       "      <td>1.000000</td>\n",
       "    </tr>\n",
       "    <tr>\n",
       "      <th>annual_inc_joint</th>\n",
       "      <td>1.000000</td>\n",
       "    </tr>\n",
       "    <tr>\n",
       "      <th>mths_since_last_record</th>\n",
       "      <td>0.865666</td>\n",
       "    </tr>\n",
       "    <tr>\n",
       "      <th>mths_since_last_major_derog</th>\n",
       "      <td>0.787739</td>\n",
       "    </tr>\n",
       "    <tr>\n",
       "      <th>desc</th>\n",
       "      <td>0.729815</td>\n",
       "    </tr>\n",
       "    <tr>\n",
       "      <th>mths_since_last_delinq</th>\n",
       "      <td>0.536906</td>\n",
       "    </tr>\n",
       "  </tbody>\n",
       "</table>\n",
       "</div>"
      ],
      "text/plain": [
       "                                    0\n",
       "open_il_24m                  1.000000\n",
       "mths_since_rcnt_il           1.000000\n",
       "total_cu_tl                  1.000000\n",
       "inq_fi                       1.000000\n",
       "all_util                     1.000000\n",
       "max_bal_bc                   1.000000\n",
       "open_rv_24m                  1.000000\n",
       "open_rv_12m                  1.000000\n",
       "il_util                      1.000000\n",
       "total_bal_il                 1.000000\n",
       "inq_last_12m                 1.000000\n",
       "open_il_12m                  1.000000\n",
       "open_il_6m                   1.000000\n",
       "open_acc_6m                  1.000000\n",
       "verification_status_joint    1.000000\n",
       "dti_joint                    1.000000\n",
       "annual_inc_joint             1.000000\n",
       "mths_since_last_record       0.865666\n",
       "mths_since_last_major_derog  0.787739\n",
       "desc                         0.729815\n",
       "mths_since_last_delinq       0.536906"
      ]
     },
     "execution_count": 9,
     "metadata": {},
     "output_type": "execute_result"
    }
   ],
   "source": [
    "# Melihat feature apa saja yang memiliki missing value lebih dari 50%\n",
    "missing_values = pd.DataFrame(loan_data.isnull().sum()/loan_data.shape[0])\n",
    "missing_values = missing_values[missing_values.iloc[:,0] > 0.50]\n",
    "missing_values.sort_values([0], ascending=False)"
   ]
  },
  {
   "cell_type": "code",
   "execution_count": 10,
   "id": "9d94beae",
   "metadata": {
    "ExecuteTime": {
     "end_time": "2022-10-30T12:53:20.590439Z",
     "start_time": "2022-10-30T12:53:19.913371Z"
    },
    "id": "9d94beae"
   },
   "outputs": [],
   "source": [
    "# Drop feature tersebut\n",
    "loan_data.dropna(thresh = loan_data.shape[0]*0.5, axis=1, inplace=True)"
   ]
  },
  {
   "cell_type": "code",
   "execution_count": 11,
   "id": "4bdca841",
   "metadata": {
    "ExecuteTime": {
     "end_time": "2022-10-30T12:53:21.177380Z",
     "start_time": "2022-10-30T12:53:20.592355Z"
    },
    "colab": {
     "base_uri": "https://localhost:8080/",
     "height": 49
    },
    "id": "4bdca841",
    "outputId": "0ba3aced-263b-4b4b-a49d-e7c13be34e92"
   },
   "outputs": [
    {
     "data": {
      "text/html": [
       "<div>\n",
       "<style scoped>\n",
       "    .dataframe tbody tr th:only-of-type {\n",
       "        vertical-align: middle;\n",
       "    }\n",
       "\n",
       "    .dataframe tbody tr th {\n",
       "        vertical-align: top;\n",
       "    }\n",
       "\n",
       "    .dataframe thead th {\n",
       "        text-align: right;\n",
       "    }\n",
       "</style>\n",
       "<table border=\"1\" class=\"dataframe\">\n",
       "  <thead>\n",
       "    <tr style=\"text-align: right;\">\n",
       "      <th></th>\n",
       "      <th>0</th>\n",
       "    </tr>\n",
       "  </thead>\n",
       "  <tbody>\n",
       "  </tbody>\n",
       "</table>\n",
       "</div>"
      ],
      "text/plain": [
       "Empty DataFrame\n",
       "Columns: [0]\n",
       "Index: []"
      ]
     },
     "execution_count": 11,
     "metadata": {},
     "output_type": "execute_result"
    }
   ],
   "source": [
    "# Pengecheckan ulang apakah feature tersebut berhasil di drop\n",
    "missing_values = pd.DataFrame(loan_data.isnull().sum()/loan_data.shape[0])\n",
    "missing_values = missing_values[missing_values.iloc[:,0] > 0.50]\n",
    "missing_values.sort_values([0], ascending=False)"
   ]
  },
  {
   "cell_type": "markdown",
   "id": "7089c5b6",
   "metadata": {
    "id": "7089c5b6"
   },
   "source": [
    "# Data Cleaning"
   ]
  },
  {
   "cell_type": "code",
   "execution_count": 12,
   "id": "da71bf0a",
   "metadata": {
    "ExecuteTime": {
     "end_time": "2022-10-30T12:53:22.745639Z",
     "start_time": "2022-10-30T12:53:22.730473Z"
    },
    "colab": {
     "base_uri": "https://localhost:8080/"
    },
    "id": "da71bf0a",
    "outputId": "680da45a-f21a-4e8d-a6fb-2cb7a19fa8eb"
   },
   "outputs": [
    {
     "name": "stdout",
     "output_type": "stream",
     "text": [
      "term\n",
      "[' 36 months' ' 60 months']\n",
      "\n",
      "grade\n",
      "['B' 'C' 'A' 'E' 'F' 'D' 'G']\n",
      "\n",
      "sub_grade\n",
      "['B2' 'C4' 'C5' 'C1' 'B5' 'A4' 'E1' 'F2' 'C3' 'B1' 'D1' 'A1' 'B3' 'B4'\n",
      " 'C2' 'D2' 'A3' 'A5' 'D5' 'A2' 'E4' 'D3' 'D4' 'F3' 'E3' 'F4' 'F1' 'E5'\n",
      " 'G4' 'E2' 'G3' 'G2' 'G1' 'F5' 'G5']\n",
      "\n",
      "emp_title\n",
      "[nan 'Ryder' 'AIR RESOURCES BOARD' ... 'MecÃ¡nica'\n",
      " 'Chief of Interpretation (Park Ranger)' 'Server Engineer Lead']\n",
      "\n",
      "emp_length\n",
      "['10+ years' '< 1 year' '1 year' '3 years' '8 years' '9 years' '4 years'\n",
      " '5 years' '6 years' '2 years' '7 years' nan]\n",
      "\n",
      "home_ownership\n",
      "['RENT' 'OWN' 'MORTGAGE' 'OTHER' 'NONE' 'ANY']\n",
      "\n",
      "verification_status\n",
      "['Verified' 'Source Verified' 'Not Verified']\n",
      "\n",
      "issue_d\n",
      "['Dec-11' 'Nov-11' 'Oct-11' 'Sep-11' 'Aug-11' 'Jul-11' 'Jun-11' 'May-11'\n",
      " 'Apr-11' 'Mar-11' 'Feb-11' 'Jan-11' 'Dec-10' 'Nov-10' 'Oct-10' 'Sep-10'\n",
      " 'Aug-10' 'Jul-10' 'Jun-10' 'May-10' 'Apr-10' 'Mar-10' 'Feb-10' 'Jan-10'\n",
      " 'Dec-09' 'Nov-09' 'Oct-09' 'Sep-09' 'Aug-09' 'Jul-09' 'Jun-09' 'May-09'\n",
      " 'Apr-09' 'Mar-09' 'Feb-09' 'Jan-09' 'Dec-08' 'Nov-08' 'Oct-08' 'Sep-08'\n",
      " 'Aug-08' 'Jul-08' 'Jun-08' 'May-08' 'Apr-08' 'Mar-08' 'Feb-08' 'Jan-08'\n",
      " 'Dec-07' 'Nov-07' 'Oct-07' 'Sep-07' 'Aug-07' 'Jul-07' 'Jun-07' 'Dec-13'\n",
      " 'Nov-13' 'Oct-13' 'Sep-13' 'Aug-13' 'Jul-13' 'Jun-13' 'May-13' 'Apr-13'\n",
      " 'Mar-13' 'Feb-13' 'Jan-13' 'Dec-12' 'Nov-12' 'Oct-12' 'Sep-12' 'Aug-12'\n",
      " 'Jul-12' 'Jun-12' 'May-12' 'Apr-12' 'Mar-12' 'Feb-12' 'Jan-12' 'Dec-14'\n",
      " 'Nov-14' 'Oct-14' 'Sep-14' 'Aug-14' 'Jul-14' 'Jun-14' 'May-14' 'Apr-14'\n",
      " 'Mar-14' 'Feb-14' 'Jan-14']\n",
      "\n",
      "loan_status\n",
      "['Fully Paid' 'Charged Off' 'Current' 'Default' 'Late (31-120 days)'\n",
      " 'In Grace Period' 'Late (16-30 days)'\n",
      " 'Does not meet the credit policy. Status:Fully Paid'\n",
      " 'Does not meet the credit policy. Status:Charged Off']\n",
      "\n",
      "pymnt_plan\n",
      "['n' 'y']\n",
      "\n",
      "url\n",
      "['https://www.lendingclub.com/browse/loanDetail.action?loan_id=1077501'\n",
      " 'https://www.lendingclub.com/browse/loanDetail.action?loan_id=1077430'\n",
      " 'https://www.lendingclub.com/browse/loanDetail.action?loan_id=1077175'\n",
      " ...\n",
      " 'https://www.lendingclub.com/browse/loanDetail.action?loan_id=9584776'\n",
      " 'https://www.lendingclub.com/browse/loanDetail.action?loan_id=9604874'\n",
      " 'https://www.lendingclub.com/browse/loanDetail.action?loan_id=9199665']\n",
      "\n",
      "purpose\n",
      "['credit_card' 'car' 'small_business' 'other' 'wedding'\n",
      " 'debt_consolidation' 'home_improvement' 'major_purchase' 'medical'\n",
      " 'moving' 'vacation' 'house' 'renewable_energy' 'educational']\n",
      "\n",
      "title\n",
      "['Computer' 'bike' 'real estate business' ... 'LoanGetter'\n",
      " 'Consolidation 01' 'Paying off the car and some bills']\n",
      "\n",
      "zip_code\n",
      "['860xx' '309xx' '606xx' '917xx' '972xx' '852xx' '280xx' '900xx' '958xx'\n",
      " '774xx' '853xx' '913xx' '245xx' '951xx' '641xx' '921xx' '067xx' '890xx'\n",
      " '770xx' '335xx' '799xx' '605xx' '103xx' '150xx' '326xx' '564xx' '141xx'\n",
      " '080xx' '330xx' '974xx' '934xx' '405xx' '946xx' '445xx' '850xx' '604xx'\n",
      " '292xx' '088xx' '180xx' '029xx' '700xx' '010xx' '441xx' '104xx' '061xx'\n",
      " '616xx' '947xx' '914xx' '765xx' '980xx' '017xx' '752xx' '787xx' '077xx'\n",
      " '540xx' '225xx' '440xx' '437xx' '559xx' '912xx' '325xx' '300xx' '923xx'\n",
      " '352xx' '013xx' '146xx' '074xx' '786xx' '937xx' '331xx' '115xx' '191xx'\n",
      " '114xx' '908xx' '902xx' '992xx' '750xx' '950xx' '329xx' '226xx' '614xx'\n",
      " '802xx' '672xx' '083xx' '100xx' '926xx' '931xx' '712xx' '060xx' '707xx'\n",
      " '342xx' '895xx' '430xx' '919xx' '996xx' '891xx' '935xx' '801xx' '928xx'\n",
      " '233xx' '927xx' '970xx' '211xx' '303xx' '070xx' '194xx' '263xx' '403xx'\n",
      " '301xx' '553xx' '993xx' '312xx' '432xx' '602xx' '216xx' '151xx' '971xx'\n",
      " '305xx' '334xx' '050xx' '129xx' '925xx' '483xx' '760xx' '961xx' '200xx'\n",
      " '085xx' '981xx' '601xx' '117xx' '063xx' '920xx' '543xx' '775xx' '570xx'\n",
      " '038xx' '221xx' '985xx' '113xx' '275xx' '236xx' '148xx' '028xx' '450xx'\n",
      " '532xx' '729xx' '321xx' '959xx' '941xx' '955xx' '217xx' '880xx' '660xx'\n",
      " '062xx' '193xx' '761xx' '857xx' '306xx' '271xx' '142xx' '956xx' '983xx'\n",
      " '945xx' '109xx' '112xx' '187xx' '630xx' '435xx' '488xx' '287xx' '705xx'\n",
      " '592xx' '318xx' '549xx' '212xx' '347xx' '274xx' '265xx' '785xx' '027xx'\n",
      " '089xx' '813xx' '069xx' '260xx' '201xx' '349xx' '322xx' '075xx' '124xx'\n",
      " '940xx' '967xx' '111xx' '773xx' '997xx' '076xx' '538xx' '021xx' '304xx'\n",
      " '234xx' '308xx' '809xx' '071xx' '363xx' '296xx' '240xx' '830xx' '011xx'\n",
      " '622xx' '207xx' '140xx' '336xx' '619xx' '208xx' '618xx' '014xx' '644xx'\n",
      " '283xx' '276xx' '631xx' '243xx' '960xx' '181xx' '922xx' '224xx' '975xx'\n",
      " '105xx' '986xx' '218xx' '652xx' '782xx' '410xx' '480xx' '328xx' '719xx'\n",
      " '982xx' '065xx' '081xx' '954xx' '346xx' '442xx' '025xx' '122xx' '173xx'\n",
      " '282xx' '120xx' '082xx' '766xx' '229xx' '840xx' '744xx' '933xx' '451xx'\n",
      " '907xx' '728xx' '159xx' '333xx' '293xx' '701xx' '984xx' '811xx' '597xx'\n",
      " '957xx' '165xx' '720xx' '119xx' '359xx' '195xx' '084xx' '969xx' '924xx'\n",
      " '531xx' '716xx' '337xx' '841xx' '323xx' '740xx' '179xx' '805xx' '285xx'\n",
      " '551xx' '658xx' '944xx' '232xx' '905xx' '600xx' '327xx' '711xx' '906xx'\n",
      " '444xx' '856xx' '064xx' '777xx' '072xx' '554xx' '145xx' '537xx' '152xx'\n",
      " '847xx' '295xx' '829xx' '320xx' '131xx' '939xx' '572xx' '281xx' '550xx'\n",
      " '078xx' '452xx' '778xx' '313xx' '851xx' '784xx' '804xx' '571xx' '210xx'\n",
      " '988xx' '400xx' '995xx' '023xx' '158xx' '657xx' '016xx' '019xx' '290xx'\n",
      " '190xx' '366xx' '066xx' '991xx' '968xx' '721xx' '439xx' '640xx' '546xx'\n",
      " '024xx' '751xx' '431xx' '741xx' '904xx' '156xx' '316xx' '299xx' '087xx'\n",
      " '739xx' '949xx' '261xx' '073xx' '222xx' '244xx' '617xx' '018xx' '286xx'\n",
      " '759xx' '952xx' '930xx' '911xx' '220xx' '731xx' '730xx' '262xx' '338xx'\n",
      " '160xx' '031xx' '054xx' '223xx' '272xx' '882xx' '557xx' '797xx' '725xx'\n",
      " '130xx' '030xx' '206xx' '324xx' '170xx' '291xx' '161xx' '647xx' '916xx'\n",
      " '665xx' '209xx' '915xx' '110xx' '086xx' '484xx' '844xx' '020xx' '354xx'\n",
      " '448xx' '978xx' '757xx' '953xx' '577xx' '315xx' '664xx' '186xx' '182xx'\n",
      " '574xx' '800xx' '197xx' '137xx' '314xx' '755xx' '973xx' '603xx' '481xx'\n",
      " '780xx' '894xx' '341xx' '361xx' '178xx' '068xx' '565xx' '611xx' '288xx'\n",
      " '443xx' '662xx' '874xx' '560xx' '535xx' '499xx' '162xx' '756xx' '168xx'\n",
      " '827xx' '541xx' '615xx' '989xx' '037xx' '863xx' '339xx' '367xx' '273xx'\n",
      " '052xx' '623xx' '416xx' '648xx' '918xx' '436xx' '898xx' '674xx' '496xx'\n",
      " '294xx' '762xx' '128xx' '903xx' '932xx' '650xx' '246xx' '633xx' '666xx'\n",
      " '228xx' '015xx' '302xx' '573xx' '118xx' '998xx' '767xx' '490xx' '350xx'\n",
      " '591xx' '254xx' '566xx' '596xx' '637xx' '032xx' '763xx' '871xx' '494xx'\n",
      " '402xx' '545xx' '184xx' '458xx' '239xx' '977xx' '297xx' '284xx' '144xx'\n",
      " '748xx' '310xx' '147xx' '153xx' '544xx' '948xx' '576xx' '976xx' '107xx'\n",
      " '846xx' '344xx' '351xx' '754xx' '910xx' '656xx' '357xx' '791xx' '493xx'\n",
      " '855xx' '278xx' '125xx' '175xx' '530xx' '171xx' '703xx' '620xx' '438xx'\n",
      " '626xx' '307xx' '636xx' '319xx' '116xx' '645xx' '708xx' '816xx' '625xx'\n",
      " '133xx' '612xx' '238xx' '166xx' '231xx' '241xx' '826xx' '783xx' '793xx'\n",
      " '646xx' '188xx' '108xx' '653xx' '057xx' '796xx' '990xx' '219xx' '724xx'\n",
      " '456xx' '214xx' '237xx' '737xx' '121xx' '199xx' '548xx' '453xx' '704xx'\n",
      " '368xx' '828xx' '598xx' '136xx' '610xx' '433xx' '722xx' '743xx' '810xx'\n",
      " '706xx' '235xx' '139xx' '613xx' '454xx' '317xx' '746xx' '446xx' '486xx'\n",
      " '033xx' '279xx' '407xx' '803xx' '794xx' '457xx' '189xx' '196xx' '539xx'\n",
      " '424xx' '492xx' '482xx' '667xx' '845xx' '608xx' '401xx' '362xx' '627xx'\n",
      " '717xx' '356xx' '607xx' '963xx' '198xx' '936xx' '713xx' '227xx' '883xx'\n",
      " '563xx' '893xx' '079xx' '806xx' '360xx' '172xx' '422xx' '768xx' '034xx'\n",
      " '735xx' '870xx' '012xx' '594xx' '215xx' '628xx' '749xx' '101xx' '814xx'\n",
      " '255xx' '745xx' '495xx' '132xx' '183xx' '864xx' '106xx' '663xx' '943xx'\n",
      " '094xx' '177xx' '365xx' '897xx' '776xx' '843xx' '421xx' '253xx' '795xx'\n",
      " '727xx' '528xx' '270xx' '808xx' '277xx' '447xx' '358xx' '815xx' '250xx'\n",
      " '230xx' '790xx' '884xx' '242xx' '534xx' '404xx' '397xx' '434xx' '671xx'\n",
      " '655xx' '675xx' '053xx' '859xx' '126xx' '102xx' '256xx' '673xx' '489xx'\n",
      " '258xx' '423xx' '497xx' '788xx' '127xx' '176xx' '380xx' '058xx' '635xx'\n",
      " '498xx' '820xx' '599xx' '822xx' '638xx' '723xx' '449xx' '420xx' '157xx'\n",
      " '726xx' '185xx' '527xx' '298xx' '769xx' '257xx' '881xx' '575xx' '624xx'\n",
      " '134xx' '877xx' '781xx' '718xx' '670xx' '138xx' '026xx' '678xx' '398xx'\n",
      " '411xx' '149xx' '247xx' '875xx' '838xx' '651xx' '364xx' '203xx' '427xx'\n",
      " '629xx' '355xx' '174xx' '547xx' '567xx' '558xx' '135xx' '035xx' '999xx'\n",
      " '634xx' '455xx' '143xx' '154xx' '562xx' '779xx' '561xx' '734xx' '789xx'\n",
      " '812xx' '268xx' '051xx' '865xx' '406xx' '661xx' '758xx' '676xx' '491xx'\n",
      " '267xx' '609xx' '595xx' '259xx' '163xx' '264xx' '409xx' '376xx' '471xx'\n",
      " '375xx' '747xx' '123xx' '714xx' '590xx' '639xx' '412xx' '425xx' '022xx'\n",
      " '369xx' '164xx' '825xx' '266xx' '096xx' '487xx' '251xx' '593xx' '169xx'\n",
      " '413xx' '155xx' '764xx' '710xx' '408xx' '668xx' '056xx' '669xx' '167xx'\n",
      " '542xx' '679xx' '462xx' '792xx' '824xx' '249xx' '798xx' '370xx' '485xx'\n",
      " '654xx' '289xx' '807xx' '252xx' '556xx' '353xx' '677xx' '090xx' '371xx'\n",
      " '831xx' '736xx' '007xx' '332xx' '468xx' '461xx' '093xx' '248xx' '463xx'\n",
      " '391xx' '381xx' '415xx' '378xx' '414xx' '396xx' '836xx' '044xx' '392xx'\n",
      " '772xx' '374xx' '823xx' '395xx' '394xx' '965xx' '390xx' '388xx' '386xx'\n",
      " '040xx' '385xx' '379xx' '681xx' '837xx' '373xx' '753xx' '834xx' '383xx'\n",
      " '384xx' '372xx' '833xx' '522xx' '523xx' '474xx' '465xx' '689xx' '473xx'\n",
      " '041xx' '685xx' '479xx' '469xx' '738xx' '418xx' '204xx' '059xx' '878xx'\n",
      " '460xx' '426xx' '514xx' '500xx' '503xx' '832xx' '691xx' '470xx' '036xx'\n",
      " '467xx' '476xx' '478xx' '466xx' '377xx' '475xx' '477xx' '472xx' '994xx'\n",
      " '873xx' '464xx' '979xx' '569xx' '382xx' '680xx' '879xx' '049xx' '962xx'\n",
      " '502xx' '942xx' '621xx' '417xx' '091xx' '643xx' '821xx' '340xx' '513xx'\n",
      " '387xx' '393xx' '389xx' '429xx' '311xx' '682xx' '854xx' '582xx' '929xx'\n",
      " '938xx' '008xx' '861xx' '888xx' '098xx' '524xx' '889xx' '092xx' '510xx'\n",
      " '909xx' '516xx' '043xx' '587xx' '511xx' '901xx']\n",
      "\n",
      "addr_state\n",
      "['AZ' 'GA' 'IL' 'CA' 'OR' 'NC' 'TX' 'VA' 'MO' 'CT' 'UT' 'FL' 'NY' 'PA'\n",
      " 'MN' 'NJ' 'KY' 'OH' 'SC' 'RI' 'LA' 'MA' 'WA' 'WI' 'AL' 'CO' 'KS' 'NV'\n",
      " 'AK' 'MD' 'WV' 'VT' 'MI' 'DC' 'SD' 'NH' 'AR' 'NM' 'MT' 'HI' 'WY' 'OK'\n",
      " 'DE' 'MS' 'TN' 'IA' 'NE' 'ID' 'IN' 'ME']\n",
      "\n",
      "earliest_cr_line\n",
      "['Jan-85' 'Apr-99' 'Nov-01' 'Feb-96' 'Jan-96' 'Nov-04' 'Jul-05' 'Jan-07'\n",
      " 'Apr-04' 'Sep-04' 'Jan-98' 'Oct-89' 'Jul-03' 'May-91' 'Sep-07' 'Oct-98'\n",
      " 'Aug-93' 'Oct-03' 'Jan-01' 'Nov-97' 'Feb-83' 'Jul-85' 'Apr-03' 'Jun-01'\n",
      " 'Feb-02' 'Aug-84' 'Nov-06' 'Dec-87' 'Nov-81' 'Feb-97' 'Apr-05' 'Oct-07'\n",
      " 'Dec-00' 'Apr-07' 'Dec-01' 'Jan-03' 'Mar-94' 'Sep-98' 'Jun-04' 'Nov-95'\n",
      " 'Jul-99' 'Jun-95' 'Sep-92' 'Jan-02' 'Apr-92' 'Oct-06' 'May-00' 'Dec-98'\n",
      " 'Dec-04' 'Oct-00' 'May-02' 'May-06' 'Jul-02' 'Jul-06' 'May-97' 'Oct-05'\n",
      " 'Apr-95' 'Oct-02' 'Jan-00' 'Apr-00' 'Dec-94' 'Sep-05' 'Dec-84' 'Dec-99'\n",
      " 'Nov-03' 'Jun-89' 'Jun-03' 'Oct-96' 'May-03' 'Jun-02' 'Jun-07' 'Dec-96'\n",
      " 'Feb-84' 'Sep-02' 'Jan-86' 'May-98' 'Jan-97' 'Jun-05' 'Feb-90' 'Mar-04'\n",
      " 'Jul-95' 'Aug-94' 'Jun-92' 'Mar-97' 'Apr-06' 'Apr-90' 'Aug-99' 'Sep-00'\n",
      " 'Feb-01' 'Dec-88' 'Feb-99' 'Dec-91' 'Aug-00' 'Oct-04' 'Aug-04' 'Feb-05'\n",
      " 'Nov-05' 'Nov-00' 'May-07' 'Jan-91' 'Jun-00' 'Aug-06' 'Dec-02' 'Jun-93'\n",
      " 'Jun-06' 'Feb-04' 'Dec-90' 'Mar-00' 'Feb-95' 'Jul-01' 'Apr-02' 'Sep-06'\n",
      " 'May-99' 'Aug-98' 'Dec-05' 'May-04' 'Oct-01' 'Jun-83' 'Mar-86' 'Apr-80'\n",
      " 'Jul-04' 'Jul-08' 'May-96' 'Jan-04' 'Nov-02' 'Aug-02' 'Aug-01' 'Mar-91'\n",
      " 'Sep-89' 'Sep-94' 'Sep-03' 'Sep-99' 'Aug-05' 'Dec-86' 'Nov-98' 'Feb-06'\n",
      " 'May-94' 'Nov-07' 'Feb-93' 'Nov-91' 'May-05' 'Dec-73' 'May-01' 'Mar-90'\n",
      " 'Mar-96' 'Oct-79' 'Jun-81' 'Mar-01' 'Apr-01' 'Jun-99' 'Nov-93' 'Jan-06'\n",
      " 'Dec-97' 'Nov-94' 'Jul-97' 'Oct-91' 'Jun-94' 'Mar-06' 'Sep-96' 'Apr-91'\n",
      " 'Jul-93' 'Jan-95' 'Sep-87' 'Mar-03' 'Oct-99' 'Jul-96' 'Dec-03' 'Aug-88'\n",
      " 'Jan-92' 'Mar-98' 'Feb-07' 'Aug-82' 'Mar-95' 'Dec-92' 'Jul-98' 'Jul-89'\n",
      " 'May-90' 'Jul-94' 'Sep-01' 'Mar-84' 'Aug-03' 'Nov-99' 'Mar-07' 'Mar-08'\n",
      " 'Apr-94' 'Jan-05' 'Jul-86' 'Aug-90' 'May-92' 'Jul-00' 'Mar-88' 'May-83'\n",
      " 'Apr-93' 'Jul-78' 'Feb-00' 'Dec-81' 'Mar-92' 'Jan-81' 'Sep-90' 'Jun-98'\n",
      " 'May-93' 'Nov-96' 'Mar-02' 'Jan-88' 'Aug-97' 'Aug-87' 'Aug-08' 'Oct-94'\n",
      " 'Oct-86' 'Feb-94' 'Jun-96' 'Feb-98' 'Nov-08' 'Apr-98' 'Jul-79' 'Jan-93'\n",
      " 'May-87' 'Jul-71' 'Aug-07' 'Jun-97' 'Mar-80' 'Dec-06' 'Jul-07' 'Oct-95'\n",
      " 'Jul-91' 'Jul-92' 'Dec-72' 'Dec-93' 'Jan-99' 'Feb-03' 'Apr-97' 'Dec-95'\n",
      " 'Apr-96' 'Jul-90' 'Mar-70' 'Nov-84' 'Apr-84' 'Jul-84' 'Aug-95' 'Mar-99'\n",
      " 'Sep-88' 'Mar-89' 'Mar-87' 'Oct-97' 'Dec-80' 'Jan-94' 'Sep-95' 'Mar-05'\n",
      " 'Jan-89' 'Feb-92' 'Jan-90' 'Nov-90' 'Mar-69' 'Jun-75' 'Mar-85' 'Dec-07'\n",
      " 'Oct-93' 'Dec-89' 'Sep-80' 'Jun-88' 'May-78' 'Apr-73' 'Aug-89' 'Oct-90'\n",
      " 'Sep-91' 'Feb-82' 'Feb-87' 'Nov-85' 'Jan-84' 'Jul-88' 'May-08' 'Oct-85'\n",
      " 'Mar-83' 'Aug-91' 'Sep-86' 'Jun-90' 'Feb-86' 'Sep-97' 'Jun-84' 'Sep-81'\n",
      " 'Apr-86' 'Aug-79' 'Aug-80' 'Nov-92' 'Sep-93' 'Jun-87' 'Sep-82' 'Aug-92'\n",
      " 'Aug-85' 'Jul-83' 'Jun-91' 'Dec-83' 'Jan-87' 'Nov-78' 'Oct-84' 'Aug-96'\n",
      " 'Nov-89' 'Sep-76' 'Nov-86' 'Oct-87' 'Sep-08' 'May-77' 'May-86' 'Mar-81'\n",
      " 'Jan-83' 'Nov-76' 'Sep-79' 'Oct-83' 'Sep-62' 'Jun-85' 'May-82' 'Feb-88'\n",
      " 'Oct-92' 'Aug-83' 'Jun-73' 'Apr-85' 'Oct-88' 'Oct-81' 'Sep-68' 'Jul-74'\n",
      " 'Nov-87' 'May-95' 'Feb-91' 'Nov-88' 'Mar-93' 'Jun-08' 'Jul-80' 'Dec-82'\n",
      " 'Mar-75' 'Feb-80' 'Apr-88' 'Dec-79' 'Sep-85' 'Sep-71' 'Mar-78' 'Feb-08'\n",
      " 'Aug-78' 'Nov-70' 'Jun-79' 'Jun-80' 'Apr-89' 'Sep-83' 'Feb-89' 'Nov-83'\n",
      " 'Jun-86' 'Oct-82' 'Aug-86' 'Oct-80' 'May-88' 'Dec-85' 'Jan-82' 'Sep-77'\n",
      " 'Dec-76' 'Apr-82' 'May-84' 'Apr-08' 'Feb-79' 'Jan-08' 'Sep-64' 'Jul-87'\n",
      " 'Jan-78' 'May-89' 'Oct-77' 'Dec-75' 'Feb-85' 'Oct-08' 'Nov-82' 'May-75'\n",
      " 'May-85' 'Feb-71' 'Jun-77' 'Apr-81' 'May-79' 'Jan-72' 'Sep-67' 'Apr-78'\n",
      " 'Feb-65' 'Apr-83' 'Nov-75' 'Jun-67' 'Mar-74' 'Jul-72' 'Aug-67' 'Apr-71'\n",
      " 'Sep-84' 'May-81' 'Dec-70' 'Oct-73' 'Jan-71' 'Dec-63' 'Apr-74' 'Jan-80'\n",
      " 'Aug-69' 'Apr-75' 'Jul-77' 'Mar-77' 'Nov-69' 'Jan-76' 'Mar-82' 'Apr-87'\n",
      " 'Dec-69' 'May-74' 'Aug-74' 'Jun-72' 'Mar-63' 'Nov-79' 'Aug-75' 'Sep-74'\n",
      " 'Aug-81' 'May-73' 'Sep-73' 'Mar-73' 'Dec-77' 'Oct-76' 'Jan-74' 'Jan-70'\n",
      " 'Aug-68' 'Feb-76' 'Jan-75' 'Oct-72' 'Dec-74' 'Feb-73' 'Nov-65' 'Mar-72'\n",
      " 'Jun-82' 'Jun-74' 'May-65' 'Jun-71' 'Oct-70' 'Apr-76' 'Oct-71' 'Apr-77'\n",
      " 'Sep-78' 'Oct-78' 'Oct-54' 'Feb-81' 'Jan-77' 'Aug-77' 'Dec-78' 'Aug-76'\n",
      " 'Jun-68' 'Jun-78' 'Jun-69' 'May-80' 'Jan-79' 'Oct-65' 'Nov-74' 'Apr-66'\n",
      " 'Jun-76' 'Feb-72' 'May-76' 'Mar-68' 'Mar-76' 'Jul-70' 'Mar-79' 'Jul-76'\n",
      " 'Jul-82' 'Sep-65' 'Apr-67' 'Oct-63' 'Feb-70' 'Jul-73' 'Feb-78' 'Nov-71'\n",
      " 'Aug-72' 'Jul-75' 'Sep-70' 'Jul-81' 'Oct-64' 'Sep-72' 'May-70' 'May-63'\n",
      " 'Feb-69' 'Nov-80' 'Jul-67' 'Apr-70' 'Nov-77' 'Nov-66' 'May-71' 'Apr-79'\n",
      " 'May-72' 'Feb-68' 'Jul-64' 'Nov-67' 'Apr-64' 'Feb-75' 'Jun-59' 'Sep-56'\n",
      " 'Jun-66' 'Jan-46' 'Mar-66' 'Jan-63' 'Dec-50' 'Jul-69' 'Jan-68' 'Nov-73'\n",
      " 'Jun-70' 'Feb-77' 'Feb-74' 'Jan-73' 'Feb-66' 'Dec-61' 'Aug-73' 'Aug-70'\n",
      " 'Sep-69' 'Sep-75' 'Dec-68' 'Nov-54' 'Oct-69' 'Dec-65' 'Apr-72' 'Nov-72'\n",
      " 'Sep-63' 'Apr-69' 'Nov-62' 'Oct-67' 'May-67' 'Nov-61' 'Feb-67' 'Nov-68'\n",
      " 'Oct-75' 'Mar-71' 'Aug-71' 'Dec-66' 'Oct-68' 'Oct-74' 'Nov-63' 'Apr-68'\n",
      " 'May-69' 'Nov-59' nan 'Oct-10' 'Dec-09' 'Nov-10' 'Jan-10' 'Dec-08'\n",
      " 'Sep-09' 'Jul-10' 'Jan-09' 'May-09' 'May-10' 'Sep-10' 'Apr-09' 'Nov-09'\n",
      " 'Apr-10' 'Mar-09' 'Feb-09' 'Aug-09' 'Oct-09' 'Jun-09' 'Jun-10' 'Jul-09'\n",
      " 'Feb-10' 'Mar-10' 'Aug-10' 'Jan-61' 'Oct-62' 'Jun-64' 'Apr-62' 'Jan-60'\n",
      " 'Sep-66' 'Mar-65' 'May-68' 'Jul-66' 'Dec-56' 'Dec-71' 'Apr-65' 'Jan-64'\n",
      " 'Jul-65' 'Jan-65' 'Jan-62' 'Aug-64' 'Jan-69' 'Oct-66' 'Jun-62' 'Dec-67'\n",
      " 'Oct-60' 'Jul-62' 'Dec-60' 'Jul-60' 'Jun-65' 'May-66' 'Oct-57' 'Aug-65'\n",
      " 'May-60' 'Jan-67' 'Nov-53' 'Oct-59' 'Jun-63' 'Mar-67' 'Jul-63' 'Nov-60'\n",
      " 'Mar-62' 'Mar-64' 'Jul-68' 'Feb-63' 'Jan-66' 'Dec-64' 'May-64' 'Oct-61'\n",
      " 'Aug-60' 'Mar-60' 'Apr-55' 'Sep-59' 'Aug-66' 'Jul-55' 'Aug-61' 'Nov-64'\n",
      " 'May-53' 'Nov-50' 'Nov-55' 'Mar-61' 'Feb-57' 'Aug-63' 'Feb-60' 'Sep-60'\n",
      " 'Feb-64' 'Dec-51' 'Nov-58' 'Aug-62' 'Oct-58' 'May-62' 'Mar-11' 'Jun-11'\n",
      " 'Dec-10' 'Oct-11' 'Sep-11' 'Jul-11' 'Apr-11' 'May-11' 'Jan-11' 'Feb-11'\n",
      " 'Aug-11' 'Apr-63' 'Nov-11' 'Dec-58' 'Jan-58' 'Jul-59' 'Jan-55' 'May-59'\n",
      " 'Aug-46' 'Apr-61' 'Jun-58' 'Jul-58' 'Jun-60' 'Jan-51' 'Dec-62' 'Mar-59'\n",
      " 'Aug-58' 'Jan-59' 'Feb-61' 'Sep-57' 'Jun-49' 'Jun-61' 'Jan-56' 'Jan-54'\n",
      " 'Jan-57' 'Jan-44' 'Oct-50' 'Jan-48' 'Jul-61' 'May-58' 'Jan-53' 'May-50'\n",
      " 'Nov-56']\n",
      "\n",
      "initial_list_status\n"
     ]
    },
    {
     "name": "stdout",
     "output_type": "stream",
     "text": [
      "['f' 'w']\n",
      "\n",
      "last_pymnt_d\n",
      "['Jan-15' 'Apr-13' 'Jun-14' 'Jan-16' 'Apr-12' 'Nov-12' 'Jun-13' 'Sep-13'\n",
      " 'Jul-12' 'Oct-13' 'May-13' 'Feb-15' 'Aug-15' 'Oct-12' 'Sep-12' nan\n",
      " 'Dec-12' 'Dec-14' 'Aug-13' 'Nov-13' 'Jan-14' 'Apr-14' 'Aug-14' 'Oct-14'\n",
      " 'Aug-12' 'Jul-14' 'Jul-13' 'Apr-15' 'Feb-14' 'Sep-14' 'Jun-12' 'Feb-13'\n",
      " 'Mar-13' 'May-14' 'Mar-15' 'Jan-13' 'Dec-13' 'Feb-12' 'Mar-14' 'Sep-15'\n",
      " 'Nov-15' 'Dec-15' 'Jan-12' 'Oct-15' 'Nov-14' 'Mar-12' 'May-12' 'Jun-15'\n",
      " 'May-15' 'Jul-15' 'Dec-11' 'Nov-11' 'Oct-11' 'Sep-11' 'Aug-11' 'Jul-11'\n",
      " 'Jun-11' 'May-11' 'Apr-11' 'Mar-11' 'Feb-11' 'Jan-11' 'Dec-10' 'Nov-10'\n",
      " 'Oct-10' 'Sep-10' 'Aug-10' 'Jul-10' 'Jun-10' 'May-10' 'Apr-10' 'Mar-10'\n",
      " 'Feb-10' 'Jan-10' 'Dec-09' 'Nov-09' 'Oct-09' 'Sep-09' 'Aug-09' 'Jul-09'\n",
      " 'Jun-09' 'May-09' 'Apr-09' 'Mar-09' 'Feb-09' 'Jan-09' 'Dec-08' 'Oct-08'\n",
      " 'Aug-08' 'Jul-08' 'Sep-08' 'Jun-08' 'May-08' 'Nov-08' 'Apr-08' 'Mar-08'\n",
      " 'Feb-08' 'Jan-08' 'Dec-07']\n",
      "\n",
      "next_pymnt_d\n",
      "[nan 'Feb-16' 'Jan-16' 'Sep-13' 'Feb-14' 'May-14' 'Jun-13' 'Mar-12'\n",
      " 'Apr-12' 'May-13' 'Aug-12' 'Aug-13' 'Jun-12' 'Nov-13' 'Feb-12' 'Oct-11'\n",
      " 'Jan-13' 'Jan-14' 'Jul-13' 'Jul-15' 'Jan-12' 'Dec-12' 'Jun-11' 'Feb-13'\n",
      " 'Nov-11' 'Nov-12' 'Dec-11' 'Aug-11' 'Sep-11' 'Apr-11' 'Mar-14' 'Apr-13'\n",
      " 'Mar-11' 'Jul-12' 'Aug-14' 'Oct-13' 'Sep-12' 'May-12' 'Apr-15' 'Jul-11'\n",
      " 'Dec-15' 'Dec-13' 'Jan-11' 'Oct-12' 'Nov-14' 'Mar-13' 'Aug-15' 'Feb-15'\n",
      " 'May-15' 'Jul-14' 'Nov-15' 'Sep-14' 'Oct-15' 'May-11' 'Feb-11' 'Dec-14'\n",
      " 'Jun-15' 'Apr-14' 'Jan-15' 'Sep-15' 'Jun-14' 'Nov-10' 'Oct-10' 'Dec-10'\n",
      " 'Mar-15' 'Oct-14' 'Jul-10' 'Sep-10' 'May-10' 'Aug-10' 'Mar-10' 'Jun-10'\n",
      " 'Apr-10' 'Feb-10' 'Dec-09' 'Nov-09' 'Oct-09' 'Jan-10' 'Sep-09' 'Jun-09'\n",
      " 'Aug-09' 'Jul-09' 'May-09' 'Apr-09' 'Jan-09' 'Oct-08' 'Feb-09' 'Nov-08'\n",
      " 'Sep-08' 'Mar-09' 'Dec-08' 'Aug-08' 'Jun-08' 'Jul-08' 'Apr-08' 'May-08'\n",
      " 'Feb-08' 'Jan-08' 'Mar-08' 'Dec-07' 'Mar-16']\n",
      "\n",
      "last_credit_pull_d\n",
      "['Jan-16' 'Sep-13' 'Jan-15' 'Sep-15' 'Dec-14' 'Aug-12' 'Mar-13' 'Dec-15'\n",
      " 'Aug-13' 'Nov-12' 'Mar-14' 'Apr-15' 'May-14' 'Jul-15' 'Jul-12' 'Sep-12'\n",
      " 'May-13' 'Oct-15' 'Jun-12' 'Mar-15' 'Dec-12' 'Jul-14' 'Sep-14' 'Feb-14'\n",
      " 'Jun-15' 'Oct-13' 'Apr-14' 'Oct-14' 'Feb-13' 'Nov-15' 'Oct-12' 'Nov-13'\n",
      " 'Nov-14' 'Feb-12' 'Apr-12' 'Aug-15' 'Jun-14' 'Jan-12' 'Aug-14' 'Jun-13'\n",
      " 'Dec-13' 'May-12' 'Jan-14' 'Jul-13' 'Apr-13' 'May-15' 'Feb-15' 'Mar-12'\n",
      " 'Nov-11' 'Dec-11' 'Jan-13' 'Oct-11' 'Sep-11' 'Aug-11' 'Jul-11' 'Jun-11'\n",
      " 'May-11' 'Apr-11' 'Mar-11' 'Feb-11' 'Jan-11' 'Dec-10' 'Nov-10' 'Oct-10'\n",
      " nan 'Sep-10' 'Aug-10' 'Jul-10' 'Jun-10' 'May-10' 'Apr-10' 'Feb-10'\n",
      " 'Mar-10' 'Aug-07' 'Jan-10' 'Dec-09' 'Nov-09' 'Oct-09' 'Sep-09' 'Jul-09'\n",
      " 'Aug-09' 'Jun-09' 'May-09' 'Apr-09' 'Mar-09' 'Feb-09' 'Jan-09' 'Dec-08'\n",
      " 'Jun-08' 'Sep-08' 'May-08' 'Aug-08' 'Mar-08' 'Oct-08' 'Feb-08' 'Jan-08'\n",
      " 'Dec-07' 'Jul-08' 'Oct-07' 'Sep-07' 'Jun-07' 'May-07' 'Jul-07' 'Nov-07']\n",
      "\n",
      "application_type\n",
      "['INDIVIDUAL']\n",
      "\n"
     ]
    }
   ],
   "source": [
    "# Dapat dilakukan print untuk semua unique values kolom, sehingga dapat di cek satu-satu\n",
    "# unique values apa saja yang kotor.\n",
    "\n",
    "for col in loan_data.select_dtypes(include= ['object','bool']).columns:\n",
    "    print(col)\n",
    "    print(loan_data[col].unique())\n",
    "    print()"
   ]
  },
  {
   "cell_type": "code",
   "execution_count": 13,
   "id": "75626a48",
   "metadata": {
    "ExecuteTime": {
     "end_time": "2022-10-30T12:53:22.761686Z",
     "start_time": "2022-10-30T12:53:22.746532Z"
    },
    "id": "75626a48"
   },
   "outputs": [],
   "source": [
    "# Kolom/feature yang harus di cleaning\n",
    "col_need_to_clean = ['term', 'emp_length', 'issue_d', 'earliest_cr_line', 'last_pymnt_d', \n",
    "                    'next_pymnt_d', 'last_credit_pull_d']"
   ]
  },
  {
   "cell_type": "code",
   "execution_count": 14,
   "id": "53822070",
   "metadata": {
    "ExecuteTime": {
     "end_time": "2022-10-30T12:53:23.120675Z",
     "start_time": "2022-10-30T12:53:22.762610Z"
    },
    "colab": {
     "base_uri": "https://localhost:8080/"
    },
    "id": "53822070",
    "outputId": "d3791d5c-c17f-4601-dff0-8dc9d6ee8b57"
   },
   "outputs": [
    {
     "data": {
      "text/plain": [
       "0          36\n",
       "1          60\n",
       "2          36\n",
       "3          36\n",
       "4          60\n",
       "         ... \n",
       "466280     60\n",
       "466281     60\n",
       "466282     60\n",
       "466283     36\n",
       "466284     36\n",
       "Name: term, Length: 466285, dtype: object"
      ]
     },
     "execution_count": 14,
     "metadata": {},
     "output_type": "execute_result"
    }
   ],
   "source": [
    "# Menghilangkan ' months' menjadi ''\n",
    "loan_data['term'].str.replace(' months', '')"
   ]
  },
  {
   "cell_type": "code",
   "execution_count": 15,
   "id": "f84ef646",
   "metadata": {
    "ExecuteTime": {
     "end_time": "2022-10-30T12:53:23.761347Z",
     "start_time": "2022-10-30T12:53:23.121386Z"
    },
    "id": "f84ef646"
   },
   "outputs": [],
   "source": [
    "# Convert data type menjadi numeric \n",
    "loan_data['term'] = pd.to_numeric(loan_data['term'].str.replace(' months', ''))"
   ]
  },
  {
   "cell_type": "code",
   "execution_count": 16,
   "id": "e7b4dda8",
   "metadata": {
    "ExecuteTime": {
     "end_time": "2022-10-30T12:53:23.777337Z",
     "start_time": "2022-10-30T12:53:23.762255Z"
    },
    "colab": {
     "base_uri": "https://localhost:8080/"
    },
    "id": "e7b4dda8",
    "outputId": "b46c11ca-df9e-4154-90e3-84a1c8135637"
   },
   "outputs": [
    {
     "data": {
      "text/plain": [
       "0         36\n",
       "1         60\n",
       "2         36\n",
       "3         36\n",
       "4         60\n",
       "          ..\n",
       "466280    60\n",
       "466281    60\n",
       "466282    60\n",
       "466283    36\n",
       "466284    36\n",
       "Name: term, Length: 466285, dtype: int64"
      ]
     },
     "execution_count": 16,
     "metadata": {},
     "output_type": "execute_result"
    }
   ],
   "source": [
    "loan_data['term']"
   ]
  },
  {
   "cell_type": "code",
   "execution_count": 17,
   "id": "a0daebfd",
   "metadata": {
    "ExecuteTime": {
     "end_time": "2022-10-30T12:53:23.822415Z",
     "start_time": "2022-10-30T12:53:23.778255Z"
    },
    "colab": {
     "base_uri": "https://localhost:8080/"
    },
    "id": "a0daebfd",
    "outputId": "5296b4a6-03b0-4d33-9bfa-993ca54d62ee"
   },
   "outputs": [
    {
     "data": {
      "text/plain": [
       "array(['10+ years', '< 1 year', '1 year', '3 years', '8 years', '9 years',\n",
       "       '4 years', '5 years', '6 years', '2 years', '7 years', nan],\n",
       "      dtype=object)"
      ]
     },
     "execution_count": 17,
     "metadata": {},
     "output_type": "execute_result"
    }
   ],
   "source": [
    "# Cek values apa saja yang harus di cleaning\n",
    "loan_data['emp_length'].unique()"
   ]
  },
  {
   "cell_type": "code",
   "execution_count": 18,
   "id": "75438bd0",
   "metadata": {
    "ExecuteTime": {
     "end_time": "2022-10-30T12:53:25.401671Z",
     "start_time": "2022-10-30T12:53:23.823348Z"
    },
    "id": "75438bd0"
   },
   "outputs": [],
   "source": [
    "loan_data['emp_length'] = loan_data['emp_length'].str.replace('\\+ years', '')\n",
    "loan_data['emp_length'] = loan_data['emp_length'].str.replace(' years', '')\n",
    "loan_data['emp_length'] = loan_data['emp_length'].str.replace('< 1 year', str(0))\n",
    "loan_data['emp_length'] = loan_data['emp_length'].str.replace(' year', '')\n",
    "\n",
    "loan_data['emp_length'].fillna(value = 0, inplace=True)\n",
    "loan_data['emp_length'] = pd.to_numeric(loan_data['emp_length'])"
   ]
  },
  {
   "cell_type": "code",
   "execution_count": 19,
   "id": "e7a10c07",
   "metadata": {
    "ExecuteTime": {
     "end_time": "2022-10-30T12:53:25.417579Z",
     "start_time": "2022-10-30T12:53:25.402672Z"
    },
    "colab": {
     "base_uri": "https://localhost:8080/"
    },
    "id": "e7a10c07",
    "outputId": "7ff93eba-3c3f-47b8-8bc3-299c36287679"
   },
   "outputs": [
    {
     "data": {
      "text/plain": [
       "0         10\n",
       "1          0\n",
       "2         10\n",
       "3         10\n",
       "4          1\n",
       "          ..\n",
       "466280     4\n",
       "466281    10\n",
       "466282     7\n",
       "466283     3\n",
       "466284    10\n",
       "Name: emp_length, Length: 466285, dtype: int64"
      ]
     },
     "execution_count": 19,
     "metadata": {},
     "output_type": "execute_result"
    }
   ],
   "source": [
    "loan_data['emp_length']"
   ]
  },
  {
   "cell_type": "code",
   "execution_count": 20,
   "id": "9dee548d",
   "metadata": {
    "ExecuteTime": {
     "end_time": "2022-10-30T12:53:25.495356Z",
     "start_time": "2022-10-30T12:53:25.419493Z"
    },
    "colab": {
     "base_uri": "https://localhost:8080/",
     "height": 424
    },
    "id": "9dee548d",
    "outputId": "b81d3412-6afd-4dd3-c57a-2b17e5e336c7"
   },
   "outputs": [
    {
     "data": {
      "text/html": [
       "<div>\n",
       "<style scoped>\n",
       "    .dataframe tbody tr th:only-of-type {\n",
       "        vertical-align: middle;\n",
       "    }\n",
       "\n",
       "    .dataframe tbody tr th {\n",
       "        vertical-align: top;\n",
       "    }\n",
       "\n",
       "    .dataframe thead th {\n",
       "        text-align: right;\n",
       "    }\n",
       "</style>\n",
       "<table border=\"1\" class=\"dataframe\">\n",
       "  <thead>\n",
       "    <tr style=\"text-align: right;\">\n",
       "      <th></th>\n",
       "      <th>issue_d</th>\n",
       "      <th>earliest_cr_line</th>\n",
       "      <th>last_pymnt_d</th>\n",
       "      <th>next_pymnt_d</th>\n",
       "      <th>last_credit_pull_d</th>\n",
       "    </tr>\n",
       "  </thead>\n",
       "  <tbody>\n",
       "    <tr>\n",
       "      <th>0</th>\n",
       "      <td>Dec-11</td>\n",
       "      <td>Jan-85</td>\n",
       "      <td>Jan-15</td>\n",
       "      <td>NaN</td>\n",
       "      <td>Jan-16</td>\n",
       "    </tr>\n",
       "    <tr>\n",
       "      <th>1</th>\n",
       "      <td>Dec-11</td>\n",
       "      <td>Apr-99</td>\n",
       "      <td>Apr-13</td>\n",
       "      <td>NaN</td>\n",
       "      <td>Sep-13</td>\n",
       "    </tr>\n",
       "    <tr>\n",
       "      <th>2</th>\n",
       "      <td>Dec-11</td>\n",
       "      <td>Nov-01</td>\n",
       "      <td>Jun-14</td>\n",
       "      <td>NaN</td>\n",
       "      <td>Jan-16</td>\n",
       "    </tr>\n",
       "    <tr>\n",
       "      <th>3</th>\n",
       "      <td>Dec-11</td>\n",
       "      <td>Feb-96</td>\n",
       "      <td>Jan-15</td>\n",
       "      <td>NaN</td>\n",
       "      <td>Jan-15</td>\n",
       "    </tr>\n",
       "    <tr>\n",
       "      <th>4</th>\n",
       "      <td>Dec-11</td>\n",
       "      <td>Jan-96</td>\n",
       "      <td>Jan-16</td>\n",
       "      <td>Feb-16</td>\n",
       "      <td>Jan-16</td>\n",
       "    </tr>\n",
       "    <tr>\n",
       "      <th>...</th>\n",
       "      <td>...</td>\n",
       "      <td>...</td>\n",
       "      <td>...</td>\n",
       "      <td>...</td>\n",
       "      <td>...</td>\n",
       "    </tr>\n",
       "    <tr>\n",
       "      <th>466280</th>\n",
       "      <td>Jan-14</td>\n",
       "      <td>Apr-03</td>\n",
       "      <td>Jan-16</td>\n",
       "      <td>Feb-16</td>\n",
       "      <td>Jan-16</td>\n",
       "    </tr>\n",
       "    <tr>\n",
       "      <th>466281</th>\n",
       "      <td>Jan-14</td>\n",
       "      <td>Jun-97</td>\n",
       "      <td>Dec-14</td>\n",
       "      <td>NaN</td>\n",
       "      <td>Jan-16</td>\n",
       "    </tr>\n",
       "    <tr>\n",
       "      <th>466282</th>\n",
       "      <td>Jan-14</td>\n",
       "      <td>Dec-01</td>\n",
       "      <td>Jan-16</td>\n",
       "      <td>Feb-16</td>\n",
       "      <td>Dec-15</td>\n",
       "    </tr>\n",
       "    <tr>\n",
       "      <th>466283</th>\n",
       "      <td>Jan-14</td>\n",
       "      <td>Feb-03</td>\n",
       "      <td>Dec-14</td>\n",
       "      <td>NaN</td>\n",
       "      <td>Apr-15</td>\n",
       "    </tr>\n",
       "    <tr>\n",
       "      <th>466284</th>\n",
       "      <td>Jan-14</td>\n",
       "      <td>Feb-00</td>\n",
       "      <td>Jan-16</td>\n",
       "      <td>Feb-16</td>\n",
       "      <td>Jan-16</td>\n",
       "    </tr>\n",
       "  </tbody>\n",
       "</table>\n",
       "<p>466285 rows × 5 columns</p>\n",
       "</div>"
      ],
      "text/plain": [
       "       issue_d earliest_cr_line last_pymnt_d next_pymnt_d last_credit_pull_d\n",
       "0       Dec-11           Jan-85       Jan-15          NaN             Jan-16\n",
       "1       Dec-11           Apr-99       Apr-13          NaN             Sep-13\n",
       "2       Dec-11           Nov-01       Jun-14          NaN             Jan-16\n",
       "3       Dec-11           Feb-96       Jan-15          NaN             Jan-15\n",
       "4       Dec-11           Jan-96       Jan-16       Feb-16             Jan-16\n",
       "...        ...              ...          ...          ...                ...\n",
       "466280  Jan-14           Apr-03       Jan-16       Feb-16             Jan-16\n",
       "466281  Jan-14           Jun-97       Dec-14          NaN             Jan-16\n",
       "466282  Jan-14           Dec-01       Jan-16       Feb-16             Dec-15\n",
       "466283  Jan-14           Feb-03       Dec-14          NaN             Apr-15\n",
       "466284  Jan-14           Feb-00       Jan-16       Feb-16             Jan-16\n",
       "\n",
       "[466285 rows x 5 columns]"
      ]
     },
     "execution_count": 20,
     "metadata": {},
     "output_type": "execute_result"
    }
   ],
   "source": [
    "# Cek feature date\n",
    "col_date = ['issue_d', 'earliest_cr_line', 'last_pymnt_d',\n",
    "                    'next_pymnt_d', 'last_credit_pull_d']\n",
    "\n",
    "loan_data[col_date]"
   ]
  },
  {
   "cell_type": "code",
   "execution_count": 21,
   "id": "d40b26cd",
   "metadata": {
    "ExecuteTime": {
     "end_time": "2022-10-30T12:53:26.130376Z",
     "start_time": "2022-10-30T12:53:25.499266Z"
    },
    "id": "d40b26cd"
   },
   "outputs": [],
   "source": [
    "for col in col_date:\n",
    "    loan_data[col] = pd.to_datetime(loan_data[col], format='%b-%y')"
   ]
  },
  {
   "cell_type": "code",
   "execution_count": 22,
   "id": "70bdb832",
   "metadata": {
    "ExecuteTime": {
     "end_time": "2022-10-30T12:53:26.835681Z",
     "start_time": "2022-10-30T12:53:26.805679Z"
    },
    "id": "70bdb832",
    "outputId": "cfcacdb6-4a0b-47b0-c9c1-ea934bb3bed9"
   },
   "outputs": [
    {
     "name": "stdout",
     "output_type": "stream",
     "text": [
      "<class 'pandas.core.frame.DataFrame'>\n",
      "RangeIndex: 466285 entries, 0 to 466284\n",
      "Data columns (total 7 columns):\n",
      " #   Column              Non-Null Count   Dtype         \n",
      "---  ------              --------------   -----         \n",
      " 0   term                466285 non-null  int64         \n",
      " 1   emp_length          466285 non-null  int64         \n",
      " 2   issue_d             466285 non-null  datetime64[ns]\n",
      " 3   earliest_cr_line    466256 non-null  datetime64[ns]\n",
      " 4   last_pymnt_d        465909 non-null  datetime64[ns]\n",
      " 5   next_pymnt_d        239071 non-null  datetime64[ns]\n",
      " 6   last_credit_pull_d  466243 non-null  datetime64[ns]\n",
      "dtypes: datetime64[ns](5), int64(2)\n",
      "memory usage: 24.9 MB\n"
     ]
    }
   ],
   "source": [
    "# Check apakah berhasil di cleaning\n",
    "loan_data[col_need_to_clean].info()"
   ]
  },
  {
   "cell_type": "code",
   "execution_count": 23,
   "id": "f04ca643",
   "metadata": {},
   "outputs": [
    {
     "name": "stdout",
     "output_type": "stream",
     "text": [
      "<class 'pandas.core.frame.DataFrame'>\n",
      "RangeIndex: 466285 entries, 0 to 466284\n",
      "Data columns (total 55 columns):\n",
      " #   Column                      Non-Null Count   Dtype         \n",
      "---  ------                      --------------   -----         \n",
      " 0   Unnamed: 0                  466285 non-null  int64         \n",
      " 1   id                          466285 non-null  int64         \n",
      " 2   member_id                   466285 non-null  int64         \n",
      " 3   loan_amnt                   466285 non-null  int64         \n",
      " 4   funded_amnt                 466285 non-null  int64         \n",
      " 5   funded_amnt_inv             466285 non-null  float64       \n",
      " 6   term                        466285 non-null  int64         \n",
      " 7   int_rate                    466285 non-null  float64       \n",
      " 8   installment                 466285 non-null  float64       \n",
      " 9   grade                       466285 non-null  object        \n",
      " 10  sub_grade                   466285 non-null  object        \n",
      " 11  emp_title                   438697 non-null  object        \n",
      " 12  emp_length                  466285 non-null  int64         \n",
      " 13  home_ownership              466285 non-null  object        \n",
      " 14  annual_inc                  466281 non-null  float64       \n",
      " 15  verification_status         466285 non-null  object        \n",
      " 16  issue_d                     466285 non-null  datetime64[ns]\n",
      " 17  loan_status                 466285 non-null  object        \n",
      " 18  pymnt_plan                  466285 non-null  object        \n",
      " 19  url                         466285 non-null  object        \n",
      " 20  purpose                     466285 non-null  object        \n",
      " 21  title                       466265 non-null  object        \n",
      " 22  zip_code                    466285 non-null  object        \n",
      " 23  addr_state                  466285 non-null  object        \n",
      " 24  dti                         466285 non-null  float64       \n",
      " 25  delinq_2yrs                 466256 non-null  float64       \n",
      " 26  earliest_cr_line            466256 non-null  datetime64[ns]\n",
      " 27  inq_last_6mths              466256 non-null  float64       \n",
      " 28  open_acc                    466256 non-null  float64       \n",
      " 29  pub_rec                     466256 non-null  float64       \n",
      " 30  revol_bal                   466285 non-null  int64         \n",
      " 31  revol_util                  465945 non-null  float64       \n",
      " 32  total_acc                   466256 non-null  float64       \n",
      " 33  initial_list_status         466285 non-null  object        \n",
      " 34  out_prncp                   466285 non-null  float64       \n",
      " 35  out_prncp_inv               466285 non-null  float64       \n",
      " 36  total_pymnt                 466285 non-null  float64       \n",
      " 37  total_pymnt_inv             466285 non-null  float64       \n",
      " 38  total_rec_prncp             466285 non-null  float64       \n",
      " 39  total_rec_int               466285 non-null  float64       \n",
      " 40  total_rec_late_fee          466285 non-null  float64       \n",
      " 41  recoveries                  466285 non-null  float64       \n",
      " 42  collection_recovery_fee     466285 non-null  float64       \n",
      " 43  last_pymnt_d                465909 non-null  datetime64[ns]\n",
      " 44  last_pymnt_amnt             466285 non-null  float64       \n",
      " 45  next_pymnt_d                239071 non-null  datetime64[ns]\n",
      " 46  last_credit_pull_d          466243 non-null  datetime64[ns]\n",
      " 47  collections_12_mths_ex_med  466140 non-null  float64       \n",
      " 48  policy_code                 466285 non-null  int64         \n",
      " 49  application_type            466285 non-null  object        \n",
      " 50  acc_now_delinq              466256 non-null  float64       \n",
      " 51  tot_coll_amt                396009 non-null  float64       \n",
      " 52  tot_cur_bal                 396009 non-null  float64       \n",
      " 53  total_rev_hi_lim            396009 non-null  float64       \n",
      " 54  good_bad                    466285 non-null  int32         \n",
      "dtypes: datetime64[ns](5), float64(26), int32(1), int64(9), object(14)\n",
      "memory usage: 193.9+ MB\n"
     ]
    }
   ],
   "source": [
    "loan_data.info()"
   ]
  },
  {
   "cell_type": "markdown",
   "id": "36d50d96",
   "metadata": {},
   "source": [
    "# Correlation"
   ]
  },
  {
   "cell_type": "code",
   "execution_count": 24,
   "id": "fbf004fb",
   "metadata": {},
   "outputs": [
    {
     "data": {
      "image/png": "[encoded data removed]",
      "text/plain": [
       "<Figure size 432x288 with 1 Axes>"
      ]
     },
     "metadata": {
      "needs_background": "light"
     },
     "output_type": "display_data"
    }
   ],
   "source": [
    "from jcopml.plot import plot_correlation_ratio\n",
    "df_corrat = plot_correlation_ratio(loan_data, ['good_bad','pymnt_plan'],['installment','int_rate','term','total_pymnt','loan_amnt','total_rec_prncp', 'recoveries', 'collection_recovery_fee'], report=True)"
   ]
  },
  {
   "cell_type": "code",
   "execution_count": 29,
   "id": "b0a6a97b",
   "metadata": {},
   "outputs": [
    {
     "data": {
      "application/vnd.jupyter.widget-view+json": {
       "model_id": "665ac22ddc384b2698860facefa00132",
       "version_major": 2,
       "version_minor": 0
      },
      "text/plain": [
       "interactive(children=(ToggleButtons(description='method', options=('spearman', 'kendall', 'pearson', 'pearson_…"
      ]
     },
     "metadata": {},
     "output_type": "display_data"
    }
   ],
   "source": [
    "from jcopml.plot import plot_correlation_matrix\n",
    "plot_correlation_matrix(loan_data, 'good_bad', numeric_col='auto')"
   ]
  },
  {
   "cell_type": "code",
   "execution_count": 28,
   "id": "88abedf4",
   "metadata": {},
   "outputs": [],
   "source": [
    "loan_data.drop(columns=\"policy_code\", inplace=True)"
   ]
  },
  {
   "cell_type": "markdown",
   "id": "dc9ab542",
   "metadata": {},
   "source": [
    "# Dataset Splitting"
   ]
  },
  {
   "cell_type": "code",
   "execution_count": null,
   "id": "4cf97ca1",
   "metadata": {},
   "outputs": [],
   "source": [
    "from sklearn.model_selection import train_test_split\n",
    "X = loan_data.drop('good_bad', axis=1)\n",
    "y = loan_data['good_bad']\n",
    "\n",
    "X_train, X_test, y_train, y_test = train_test_split(X, y, test_size=0.2, stratify=y, random_state=42)\n",
    "X_train.shape, X_test.shape, y_train.shape, y_test.shape"
   ]
  },
  {
   "cell_type": "code",
   "execution_count": null,
   "id": "216460ee",
   "metadata": {},
   "outputs": [],
   "source": [
    "y_train.value_counts(normalize=True)"
   ]
  },
  {
   "cell_type": "code",
   "execution_count": null,
   "id": "9cfa27b5",
   "metadata": {},
   "outputs": [],
   "source": [
    "# Distribusi y_test sudah sama persis dengan y_train\n",
    "y_test.value_counts(normalize=True)"
   ]
  },
  {
   "cell_type": "markdown",
   "id": "383ebe3b",
   "metadata": {
    "id": "383ebe3b"
   },
   "source": [
    "# Feature Engineering"
   ]
  },
  {
   "cell_type": "code",
   "execution_count": null,
   "id": "03da3bc1",
   "metadata": {
    "ExecuteTime": {
     "end_time": "2022-10-30T12:53:26.866655Z",
     "start_time": "2022-10-30T12:53:26.852543Z"
    },
    "colab": {
     "base_uri": "https://localhost:8080/"
    },
    "id": "03da3bc1",
    "outputId": "5db0853e-9d1f-41f2-e1ff-a999bd6e2c4a"
   },
   "outputs": [],
   "source": [
    "# Kolom yang akan di feature engineering\n",
    "col_need_to_clean"
   ]
  },
  {
   "cell_type": "code",
   "execution_count": null,
   "id": "c3f296f2",
   "metadata": {
    "ExecuteTime": {
     "end_time": "2022-10-30T12:53:26.958884Z",
     "start_time": "2022-10-30T12:53:26.867587Z"
    },
    "id": "c3f296f2"
   },
   "outputs": [],
   "source": [
    "X_train = X_train[['term','emp_length','issue_d','earliest_cr_line','last_pymnt_d','next_pymnt_d','last_credit_pull_d','total_rec_prncp', 'recoveries', 'collection_recovery_fee']]\n",
    "X_test = X_test[['term','emp_length','issue_d','earliest_cr_line','last_pymnt_d','next_pymnt_d','last_credit_pull_d','total_rec_prncp', 'recoveries', 'collection_recovery_fee']]"
   ]
  },
  {
   "cell_type": "code",
   "execution_count": null,
   "id": "69eadfde",
   "metadata": {
    "ExecuteTime": {
     "end_time": "2022-10-30T12:53:26.974412Z",
     "start_time": "2022-10-30T12:53:26.960415Z"
    },
    "id": "69eadfde"
   },
   "outputs": [],
   "source": [
    "# tidak dibutuhkan untuk feature engineering\n",
    "del X_train['next_pymnt_d']\n",
    "del X_test['next_pymnt_d']"
   ]
  },
  {
   "cell_type": "code",
   "execution_count": null,
   "id": "b5945ef6",
   "metadata": {
    "ExecuteTime": {
     "end_time": "2022-10-30T12:53:26.989493Z",
     "start_time": "2022-10-30T12:53:26.975413Z"
    },
    "colab": {
     "base_uri": "https://localhost:8080/"
    },
    "id": "b5945ef6",
    "outputId": "3f0a9ed0-30d1-4cc0-878a-90253b3b13a1"
   },
   "outputs": [],
   "source": [
    "X_train.shape, X_test.shape"
   ]
  },
  {
   "cell_type": "code",
   "execution_count": null,
   "id": "d5914c83",
   "metadata": {
    "ExecuteTime": {
     "end_time": "2022-10-30T12:53:27.004958Z",
     "start_time": "2022-10-30T12:53:26.990506Z"
    },
    "colab": {
     "base_uri": "https://localhost:8080/",
     "height": 35
    },
    "id": "d5914c83",
    "outputId": "f970c4ee-9f64-483d-cc4b-35ba42771118"
   },
   "outputs": [],
   "source": [
    "from datetime import date\n",
    "\n",
    "date.today().strftime('%Y-%m-%d')"
   ]
  },
  {
   "cell_type": "code",
   "execution_count": null,
   "id": "c16de094",
   "metadata": {
    "ExecuteTime": {
     "end_time": "2022-10-30T12:53:27.397510Z",
     "start_time": "2022-10-30T12:53:27.005872Z"
    },
    "id": "c16de094"
   },
   "outputs": [],
   "source": [
    "# feature engineering untuk date columns\n",
    "def date_columns(df, column):\n",
    "    today_date = pd.to_datetime(date.today().strftime('%Y-%m-%d'))\n",
    "    df[column] = pd.to_datetime(df[column], format = \"%b-%y\")\n",
    "    df['mths_since_' + column] = round(pd.to_numeric((today_date - df[column]) / np.timedelta64(1, 'M')))\n",
    "    df.drop(columns = [column], inplace=True)\n",
    "    \n",
    "# apply to X_train\n",
    "date_columns(X_train, 'earliest_cr_line')\n",
    "date_columns(X_train, 'issue_d')\n",
    "date_columns(X_train, 'last_pymnt_d')\n",
    "date_columns(X_train, 'last_credit_pull_d')"
   ]
  },
  {
   "cell_type": "code",
   "execution_count": null,
   "id": "32f5a061",
   "metadata": {
    "ExecuteTime": {
     "end_time": "2022-10-30T12:53:27.507685Z",
     "start_time": "2022-10-30T12:53:27.398508Z"
    },
    "id": "32f5a061"
   },
   "outputs": [],
   "source": [
    "# apply to X_test\n",
    "date_columns(X_test, 'earliest_cr_line')\n",
    "date_columns(X_test, 'issue_d')\n",
    "date_columns(X_test, 'last_pymnt_d')\n",
    "date_columns(X_test, 'last_credit_pull_d')"
   ]
  },
  {
   "cell_type": "code",
   "execution_count": null,
   "id": "506a1053",
   "metadata": {
    "ExecuteTime": {
     "end_time": "2022-10-30T12:53:27.523206Z",
     "start_time": "2022-10-30T12:53:27.508602Z"
    },
    "colab": {
     "base_uri": "https://localhost:8080/"
    },
    "id": "506a1053",
    "outputId": "8b0a031f-ca14-4e5f-d4a2-69122dd8f008"
   },
   "outputs": [],
   "source": [
    "X_test.isnull().sum()"
   ]
  },
  {
   "cell_type": "code",
   "execution_count": null,
   "id": "83226e15",
   "metadata": {
    "ExecuteTime": {
     "end_time": "2022-10-30T12:53:27.539318Z",
     "start_time": "2022-10-30T12:53:27.524203Z"
    },
    "colab": {
     "base_uri": "https://localhost:8080/"
    },
    "id": "83226e15",
    "outputId": "80cfd09e-8032-435d-ec57-da3d522a9529"
   },
   "outputs": [],
   "source": [
    "X_train.isnull().sum()"
   ]
  },
  {
   "cell_type": "code",
   "execution_count": null,
   "id": "a323ed44",
   "metadata": {
    "ExecuteTime": {
     "end_time": "2022-10-30T12:53:27.600693Z",
     "start_time": "2022-10-30T12:53:27.540334Z"
    },
    "id": "a323ed44"
   },
   "outputs": [],
   "source": [
    "X_train.fillna(X_train.median(), inplace=True)\n",
    "X_test.fillna(X_test.median(), inplace=True)"
   ]
  },
  {
   "cell_type": "code",
   "execution_count": null,
   "id": "11fb3e54",
   "metadata": {},
   "outputs": [],
   "source": [
    "X_train"
   ]
  },
  {
   "cell_type": "markdown",
   "id": "6c150db5",
   "metadata": {},
   "source": [
    "# Perbandingan Algoritma"
   ]
  },
  {
   "cell_type": "code",
   "execution_count": null,
   "id": "aecb16ea",
   "metadata": {},
   "outputs": [],
   "source": [
    "results = pd.DataFrame({\n",
    "    'Model': [ 'KNN', \n",
    "              'Logistic Regression',\n",
    "              'Naive Bayes'],\n",
    "    'Score': [ acc_knn,acc_log,acc_gaussian],\n",
    "    \"Accuracy_score\":[accuracy_knn,\n",
    "                      accuracy_lr,\n",
    "                      accuracy_nb\n",
    "                     ]})\n",
    "result_df = results.sort_values(by='Accuracy_score', ascending=False)\n",
    "result_df = result_df.reset_index(drop=True)\n",
    "result_df.head(9)"
   ]
  },
  {
   "cell_type": "markdown",
   "id": "28030ee3",
   "metadata": {},
   "source": [
    "# Training"
   ]
  },
  {
   "cell_type": "markdown",
   "id": "ecd744a2",
   "metadata": {},
   "source": [
    "Disini kita akan mencoba 2 algoritma yaitu Xgboost dan Logistik regression. Setelah kita mendapatkan persentase scoring, lalu akan dievaluasi dengan metrik yang berbeda khusus untuk klasifikasi"
   ]
  },
  {
   "cell_type": "markdown",
   "id": "cb100937",
   "metadata": {},
   "source": [
    "### Modelling I Menggunakan Algoritma XGBOOST"
   ]
  },
  {
   "cell_type": "code",
   "execution_count": null,
   "id": "5dc035b1",
   "metadata": {},
   "outputs": [],
   "source": [
    "from jcopml.pipeline import num_pipe, cat_pipe\n",
    "from sklearn.compose import ColumnTransformer\n",
    "from xgboost import XGBClassifier\n",
    "from sklearn.model_selection import RandomizedSearchCV\n",
    "from jcopml.tuning import random_search_params as rsp"
   ]
  },
  {
   "cell_type": "code",
   "execution_count": null,
   "id": "dfd84794",
   "metadata": {},
   "outputs": [],
   "source": [
    "preprocessor = ColumnTransformer([\n",
    "    ('numeric', num_pipe(scaling='standard', transform='yeo-johnson'), X_train.columns),\n",
    "])\n",
    "\n",
    "pipeline = Pipeline([\n",
    "    ('prep', preprocessor),\n",
    "    ('algo', XGBClassifier(n_jobs=-1, random_state=42))\n",
    "])\n",
    "\n",
    "xgboost = RandomizedSearchCV(pipeline, rsp.xgb_params, cv=3, n_jobs=-1, verbose=1, random_state=42)\n",
    "xgboost.fit(X_train, y_train)\n",
    "\n",
    "print(xgboost.best_params_)\n",
    "print(xgboost.score(X_train, y_train), xgboost.best_score_, xgboost.score(X_test, y_test))"
   ]
  },
  {
   "cell_type": "markdown",
   "id": "100df222",
   "metadata": {},
   "source": [
    "### Evaluasi Metrik XGBOOST"
   ]
  },
  {
   "cell_type": "code",
   "execution_count": null,
   "id": "f6a80758",
   "metadata": {},
   "outputs": [],
   "source": [
    "from jcopml.plot import plot_confusion_matrix, plot_classification_report, plot_roc_curve, plot_pr_curve\n",
    "plot_confusion_matrix(X_train, y_train, X_test, y_test, xgboost)"
   ]
  },
  {
   "cell_type": "code",
   "execution_count": null,
   "id": "782bce84",
   "metadata": {},
   "outputs": [],
   "source": [
    "plot_classification_report(X_train, y_train, X_test, y_test, xgboost, report=True)"
   ]
  },
  {
   "cell_type": "code",
   "execution_count": null,
   "id": "6cc3f4aa",
   "metadata": {},
   "outputs": [],
   "source": [
    "plot_pr_curve(X_train, y_train, X_test, y_test, xgboost)"
   ]
  },
  {
   "cell_type": "code",
   "execution_count": null,
   "id": "e81d6b2a",
   "metadata": {},
   "outputs": [],
   "source": [
    "plot_roc_curve(X_train, y_train, X_test, y_test, xgboost)"
   ]
  },
  {
   "cell_type": "markdown",
   "id": "29ae6772",
   "metadata": {},
   "source": [
    "### Modelling I Menggunakan Algoritma LOGISTIC REGRESSION"
   ]
  },
  {
   "cell_type": "code",
   "execution_count": null,
   "id": "8b4fb300",
   "metadata": {},
   "outputs": [],
   "source": [
    "from sklearn.linear_model import LogisticRegression\n",
    "from sklearn.model_selection import RandomizedSearchCV\n",
    "from jcopml.tuning import random_search_params as rsp"
   ]
  },
  {
   "cell_type": "code",
   "execution_count": null,
   "id": "135adc89",
   "metadata": {},
   "outputs": [],
   "source": [
    "preprocessor = ColumnTransformer([\n",
    "    ('numeric', num_pipe(scaling='standard', transform='yeo-johnson'), X_train.columns),\n",
    "])\n",
    "\n",
    "pipeline = Pipeline([\n",
    "    ('prep', preprocessor),\n",
    "    ('algo', LogisticRegression(multi_class='ovr', solver='lbfgs', n_jobs=-1, random_state=42))\n",
    "])\n",
    "\n",
    "LogReg = RandomizedSearchCV(pipeline, rsp.logreg_params, cv=3, n_jobs=-1, verbose=1, random_state=42)\n",
    "LogReg.fit(X_train, y_train)\n",
    "\n",
    "print(LogReg.best_params_)\n",
    "print(LogReg.score(X_train, y_train), LogReg.best_score_, LogReg.score(X_test, y_test))"
   ]
  },
  {
   "cell_type": "markdown",
   "id": "064cdaf7",
   "metadata": {},
   "source": [
    "### Evaluasi Metrik LOGISTIC REGRESSION"
   ]
  },
  {
   "cell_type": "code",
   "execution_count": null,
   "id": "9a461709",
   "metadata": {},
   "outputs": [],
   "source": [
    "from jcopml.plot import plot_confusion_matrix, plot_classification_report, plot_roc_curve, plot_pr_curve\n",
    "plot_confusion_matrix(X_train, y_train, X_test, y_test, LogReg)"
   ]
  },
  {
   "cell_type": "code",
   "execution_count": null,
   "id": "3c553fab",
   "metadata": {},
   "outputs": [],
   "source": [
    "plot_classification_report(X_train, y_train, X_test, y_test, LogReg, report=True)"
   ]
  },
  {
   "cell_type": "code",
   "execution_count": null,
   "id": "ac3effa6",
   "metadata": {},
   "outputs": [],
   "source": [
    "plot_pr_curve(X_train, y_train, X_test, y_test, LogReg)"
   ]
  },
  {
   "cell_type": "code",
   "execution_count": null,
   "id": "98684ea0",
   "metadata": {},
   "outputs": [],
   "source": [
    "plot_roc_curve(X_train, y_train, X_test, y_test, LogReg)"
   ]
  },
  {
   "cell_type": "code",
   "execution_count": null,
   "id": "29ebc7e5",
   "metadata": {},
   "outputs": [],
   "source": [
    "result = pd.DataFrame({\n",
    "    'Model': [ 'xgboost', \n",
    "              'Logistic Regression'],\n",
    "    'Score': [ model.score(X_test, y_test), LogReg.score(X_test, y_test)]})\n",
    "#      \"Accuracy_score\":[ model, LogReg]})\n",
    "\n",
    "result = result.reset_index(drop=True)\n",
    "result.head()"
   ]
  },
  {
   "cell_type": "code",
   "execution_count": null,
   "id": "cb6b9aab",
   "metadata": {},
   "outputs": [],
   "source": [
    "loan_data.head()"
   ]
  },
  {
   "cell_type": "code",
   "execution_count": null,
   "id": "7f5d0bce",
   "metadata": {},
   "outputs": [],
   "source": []
  },
  {
   "cell_type": "code",
   "execution_count": null,
   "id": "e1759b95",
   "metadata": {},
   "outputs": [],
   "source": [
    "from sklearn.svm import SVC\n",
    "from sklearn.model_selection import RandomizedSearchCV\n",
    "from jcopml.tuning import random_search_params as rsp\n",
    "\n",
    "preprocessor = ColumnTransformer([\n",
    "    ('numeric', num_pipe(scaling='standard', transform='yeo-johnson'), X_train.columns),\n",
    "])\n",
    "\n",
    "pipeline = Pipeline([\n",
    "    ('prep', preprocessor),\n",
    "    ('algo', SVC(max_iter=500))\n",
    "])\n",
    "\n",
    "model = RandomizedSearchCV(pipeline, rsp.svm_params, cv=3, n_jobs=-1, verbose=1, random_state=42)\n",
    "model.fit(X_train, y_train)\n",
    "\n",
    "print(model.best_params_)\n",
    "print(model.score(X_train, y_train), model.best_score_, model.score(X_test, y_test))"
   ]
  },
  {
   "cell_type": "code",
   "execution_count": null,
   "id": "f8d1b434",
   "metadata": {},
   "outputs": [],
   "source": [
    "preprocessor = ColumnTransformer([\n",
    "    ('numeric', num_pipe(), [\"______________\"]),\n",
    "    ('categoric', cat_pipe(encoder='onehot'), [\"_____________\"]),\n",
    "])\n",
    "\n",
    "\n",
    "\n"
   ]
  }
 ],
 "metadata": {
  "colab": {
   "provenance": [],
   "toc_visible": true
  },
  "kernelspec": {
   "display_name": "Python 3 (ipykernel)",
   "language": "python",
   "name": "python3"
  },
  "language_info": {
   "codemirror_mode": {
    "name": "ipython",
    "version": 3
   },
   "file_extension": ".py",
   "mimetype": "text/x-python",
   "name": "python",
   "nbconvert_exporter": "python",
   "pygments_lexer": "ipython3",
   "version": "3.10.0"
  },
  "toc": {
   "base_numbering": 1,
   "nav_menu": {},
   "number_sections": true,
   "sideBar": true,
   "skip_h1_title": false,
   "title_cell": "Table of Contents",
   "title_sidebar": "Contents",
   "toc_cell": false,
   "toc_position": {
    "height": "calc(100% - 180px)",
    "left": "10px",
    "top": "150px",
    "width": "250px"
   },
   "toc_section_display": true,
   "toc_window_display": true
  },
  "varInspector": {
   "cols": {
    "lenName": 16,
    "lenType": 16,
    "lenVar": 40
   },
   "kernels_config": {
    "python": {
     "delete_cmd_postfix": "",
     "delete_cmd_prefix": "del ",
     "library": "var_list.py",
     "varRefreshCmd": "print(var_dic_list())"
    },
    "r": {
     "delete_cmd_postfix": ") ",
     "delete_cmd_prefix": "rm(",
     "library": "var_list.r",
     "varRefreshCmd": "cat(var_dic_list()) "
    }
   },
   "types_to_exclude": [
    "module",
    "function",
    "builtin_function_or_method",
    "instance",
    "_Feature"
   ],
   "window_display": false
  }
 },
 "nbformat": 4,
 "nbformat_minor": 5
}
